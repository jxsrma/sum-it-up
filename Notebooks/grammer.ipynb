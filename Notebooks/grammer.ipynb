{
 "cells": [
  {
   "cell_type": "code",
   "execution_count": 1,
   "metadata": {},
   "outputs": [],
   "source": [
    "import language_tool_python"
   ]
  },
  {
   "cell_type": "code",
   "execution_count": 2,
   "metadata": {},
   "outputs": [],
   "source": [
    "# using the tool\n",
    "my_tool = language_tool_python.LanguageTool(\"en-US\")\n"
   ]
  },
  {
   "cell_type": "code",
   "execution_count": 3,
   "metadata": {},
   "outputs": [],
   "source": [
    "# given text\n",
    "# my_text = \"\"\"LanguageTool provides utility to check grammar and spelling errors. We just have to paste the text here and click the 'Check Text' button. Click the colored phrases for for information on potential errors. or we can use this text too see an some of the issues that LanguageTool can dedect. Whot do someone thinks of grammar checkers? Please not that they are not perfect. Style problems get a blue marker: It is 7 P.M. in the evening. The weather was nice on Monday, 22 November 2021\"\"\"\n",
    "# my_text = \"\"\"the World is is veri dengerous place\"\"\"\n",
    "my_text = \"\"\"What type of the books you like to read in you free time\"\"\"\n",
    "\n"
   ]
  },
  {
   "cell_type": "code",
   "execution_count": 4,
   "metadata": {},
   "outputs": [],
   "source": [
    "# getting the matches\n",
    "my_matches = my_tool.check(my_text)\n"
   ]
  },
  {
   "cell_type": "code",
   "execution_count": 5,
   "metadata": {},
   "outputs": [
    {
     "data": {
      "text/plain": [
       "[]"
      ]
     },
     "execution_count": 5,
     "metadata": {},
     "output_type": "execute_result"
    }
   ],
   "source": [
    "# printing matches\n",
    "# my_matches\n",
    "\n",
    "checklist = []\n",
    "\n",
    "for i in my_matches:\n",
    "    checkDict = {\n",
    "        \"ruleId\": i.ruleId,\n",
    "        \"message\": i.message,\n",
    "        \"replacements\": i.replacements,\n",
    "        \"offsetInContext\": i.offsetInContext,\n",
    "        \"context\": i.context,\n",
    "        \"offset\": i.offset,\n",
    "        \"errorLength\": i.errorLength,\n",
    "        \"category\": i.category,\n",
    "        \"ruleIssueType\": i.ruleIssueType,\n",
    "        \"sentence\": i.sentence,\n",
    "    }\n",
    "    checklist.append(checkDict)\n",
    "checklist\n",
    "    "
   ]
  },
  {
   "cell_type": "code",
   "execution_count": 6,
   "metadata": {},
   "outputs": [],
   "source": [
    "# defining some variables  \n",
    "myMistakes = []  \n",
    "myCorrections = []  \n",
    "startPositions = []  \n",
    "endPositions = []  "
   ]
  },
  {
   "cell_type": "code",
   "execution_count": 7,
   "metadata": {},
   "outputs": [],
   "source": [
    "# using the for-loop  \n",
    "for rules in my_matches:  \n",
    "    if len(rules.replacements) > 0:  \n",
    "        startPositions.append(rules.offset)  \n",
    "        endPositions.append(rules.errorLength + rules.offset)  \n",
    "        myMistakes.append(my_text[rules.offset : rules.errorLength + rules.offset])  \n",
    "        myCorrections.append(rules.replacements[0])\n",
    "\n",
    "# myMistakes\n",
    "# myCorrections\n",
    "# startPositions\n",
    "# endPositions"
   ]
  },
  {
   "cell_type": "code",
   "execution_count": 8,
   "metadata": {},
   "outputs": [],
   "source": [
    "# creating new object  \n",
    "my_NewText = list(my_text)\n"
   ]
  },
  {
   "cell_type": "code",
   "execution_count": 9,
   "metadata": {},
   "outputs": [],
   "source": [
    "# rewriting the correct passage  \n",
    "for n in range(len(startPositions)):  \n",
    "    for i in range(len(my_text)):  \n",
    "        my_NewText[startPositions[n]] = myCorrections[n]  \n",
    "        if (i > startPositions[n] and i < endPositions[n]):  \n",
    "            my_NewText[i] = \"\"  \n",
    "  "
   ]
  },
  {
   "cell_type": "code",
   "execution_count": 10,
   "metadata": {},
   "outputs": [],
   "source": [
    "my_NewText = \"\".join(my_NewText)"
   ]
  },
  {
   "cell_type": "code",
   "execution_count": 11,
   "metadata": {},
   "outputs": [
    {
     "name": "stdout",
     "output_type": "stream",
     "text": [
      "What type of the books you like to read in you free time\n"
     ]
    }
   ],
   "source": [
    "# printing the text  \n",
    "print(my_NewText)"
   ]
  }
 ],
 "metadata": {
  "kernelspec": {
   "display_name": "sitEnv",
   "language": "python",
   "name": "python3"
  },
  "language_info": {
   "codemirror_mode": {
    "name": "ipython",
    "version": 3
   },
   "file_extension": ".py",
   "mimetype": "text/x-python",
   "name": "python",
   "nbconvert_exporter": "python",
   "pygments_lexer": "ipython3",
   "version": "3.9.13"
  },
  "orig_nbformat": 4,
  "vscode": {
   "interpreter": {
    "hash": "12cf440864c37dfb74405192ae035392a3e0684232d94db4b628dfe48d0afcbe"
   }
  }
 },
 "nbformat": 4,
 "nbformat_minor": 2
}
